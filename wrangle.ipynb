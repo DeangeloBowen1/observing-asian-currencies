{
 "cells": [
  {
   "cell_type": "code",
   "execution_count": 1,
   "id": "4437ed8d",
   "metadata": {},
   "outputs": [],
   "source": [
    "import numpy as np\n",
    "import pandas as pd\n",
    "import seaborn as sns\n",
    "import matplotlib.pyplot as plt"
   ]
  },
  {
   "cell_type": "markdown",
   "id": "2c6081fb",
   "metadata": {},
   "source": [
    "### Begin pulling in csv's"
   ]
  },
  {
   "cell_type": "code",
   "execution_count": 2,
   "id": "f37fa108",
   "metadata": {
    "scrolled": true
   },
   "outputs": [
    {
     "name": "stdout",
     "output_type": "stream",
     "text": [
      "<class 'pandas.core.frame.DataFrame'>\n",
      "RangeIndex: 1305 entries, 0 to 1304\n",
      "Data columns (total 2 columns):\n",
      " #   Column    Non-Null Count  Dtype \n",
      "---  ------    --------------  ----- \n",
      " 0   DATE      1305 non-null   object\n",
      " 1   DTWEXBGS  1305 non-null   object\n",
      "dtypes: object(2)\n",
      "memory usage: 20.5+ KB\n"
     ]
    }
   ],
   "source": [
    "usd = pd.read_csv('USDINDEX.csv')\n",
    "usd.info()"
   ]
  },
  {
   "cell_type": "code",
   "execution_count": 3,
   "id": "4c6eba70",
   "metadata": {
    "scrolled": true
   },
   "outputs": [
    {
     "name": "stdout",
     "output_type": "stream",
     "text": [
      "<class 'pandas.core.frame.DataFrame'>\n",
      "RangeIndex: 1305 entries, 0 to 1304\n",
      "Data columns (total 2 columns):\n",
      " #   Column   Non-Null Count  Dtype \n",
      "---  ------   --------------  ----- \n",
      " 0   DATE     1305 non-null   object\n",
      " 1   DEXJPUS  1305 non-null   object\n",
      "dtypes: object(2)\n",
      "memory usage: 20.5+ KB\n"
     ]
    }
   ],
   "source": [
    "# japan yen csv\n",
    "jpy = pd.read_csv('DEXJPUS.csv')\n",
    "jpy.info()"
   ]
  },
  {
   "cell_type": "code",
   "execution_count": 4,
   "id": "bc97da71",
   "metadata": {},
   "outputs": [
    {
     "name": "stdout",
     "output_type": "stream",
     "text": [
      "<class 'pandas.core.frame.DataFrame'>\n",
      "RangeIndex: 1305 entries, 0 to 1304\n",
      "Data columns (total 2 columns):\n",
      " #   Column   Non-Null Count  Dtype \n",
      "---  ------   --------------  ----- \n",
      " 0   DATE     1305 non-null   object\n",
      " 1   DEXHKUS  1305 non-null   object\n",
      "dtypes: object(2)\n",
      "memory usage: 20.5+ KB\n"
     ]
    }
   ],
   "source": [
    "# Hong kong dollar csv\n",
    "hk = pd.read_csv('DEXHKUS.csv')\n",
    "hk.info()"
   ]
  },
  {
   "cell_type": "code",
   "execution_count": 5,
   "id": "1e472b87",
   "metadata": {
    "scrolled": true
   },
   "outputs": [
    {
     "name": "stdout",
     "output_type": "stream",
     "text": [
      "<class 'pandas.core.frame.DataFrame'>\n",
      "RangeIndex: 1305 entries, 0 to 1304\n",
      "Data columns (total 2 columns):\n",
      " #   Column   Non-Null Count  Dtype \n",
      "---  ------   --------------  ----- \n",
      " 0   DATE     1305 non-null   object\n",
      " 1   DEXCHUS  1305 non-null   object\n",
      "dtypes: object(2)\n",
      "memory usage: 20.5+ KB\n"
     ]
    }
   ],
   "source": [
    "# chinese yuan\n",
    "ch = pd.read_csv('DEXCHUS.csv')\n",
    "ch.info()"
   ]
  },
  {
   "cell_type": "code",
   "execution_count": 6,
   "id": "3215afb9",
   "metadata": {},
   "outputs": [
    {
     "name": "stdout",
     "output_type": "stream",
     "text": [
      "<class 'pandas.core.frame.DataFrame'>\n",
      "RangeIndex: 1305 entries, 0 to 1304\n",
      "Data columns (total 2 columns):\n",
      " #   Column   Non-Null Count  Dtype \n",
      "---  ------   --------------  ----- \n",
      " 0   DATE     1305 non-null   object\n",
      " 1   DEXKOUS  1305 non-null   object\n",
      "dtypes: object(2)\n",
      "memory usage: 20.5+ KB\n"
     ]
    }
   ],
   "source": [
    "# korean won\n",
    "kr = pd.read_csv('DEXKOUS.csv')\n",
    "kr.info()"
   ]
  },
  {
   "cell_type": "code",
   "execution_count": 7,
   "id": "5ebbcf62",
   "metadata": {},
   "outputs": [
    {
     "name": "stdout",
     "output_type": "stream",
     "text": [
      "<class 'pandas.core.frame.DataFrame'>\n",
      "RangeIndex: 1305 entries, 0 to 1304\n",
      "Data columns (total 2 columns):\n",
      " #   Column   Non-Null Count  Dtype \n",
      "---  ------   --------------  ----- \n",
      " 0   DATE     1305 non-null   object\n",
      " 1   DEXSIUS  1305 non-null   object\n",
      "dtypes: object(2)\n",
      "memory usage: 20.5+ KB\n"
     ]
    }
   ],
   "source": [
    "# singapore dollar\n",
    "si = pd.read_csv('DEXSIUS.csv')\n",
    "si.info()"
   ]
  },
  {
   "cell_type": "code",
   "execution_count": 8,
   "id": "3938276f",
   "metadata": {},
   "outputs": [
    {
     "name": "stdout",
     "output_type": "stream",
     "text": [
      "<class 'pandas.core.frame.DataFrame'>\n",
      "RangeIndex: 1305 entries, 0 to 1304\n",
      "Data columns (total 2 columns):\n",
      " #   Column   Non-Null Count  Dtype \n",
      "---  ------   --------------  ----- \n",
      " 0   DATE     1305 non-null   object\n",
      " 1   DEXTAUS  1305 non-null   object\n",
      "dtypes: object(2)\n",
      "memory usage: 20.5+ KB\n"
     ]
    }
   ],
   "source": [
    "# taiwan dollar\n",
    "tw = pd.read_csv('DEXTAUS.csv')\n",
    "tw.info()"
   ]
  },
  {
   "cell_type": "code",
   "execution_count": 9,
   "id": "37b20634",
   "metadata": {},
   "outputs": [
    {
     "name": "stdout",
     "output_type": "stream",
     "text": [
      "<class 'pandas.core.frame.DataFrame'>\n",
      "RangeIndex: 1305 entries, 0 to 1304\n",
      "Data columns (total 2 columns):\n",
      " #   Column   Non-Null Count  Dtype \n",
      "---  ------   --------------  ----- \n",
      " 0   DATE     1305 non-null   object\n",
      " 1   DEXTHUS  1305 non-null   object\n",
      "dtypes: object(2)\n",
      "memory usage: 20.5+ KB\n"
     ]
    }
   ],
   "source": [
    "# Thai Baht\n",
    "th = pd.read_csv('DEXTHUS.csv')\n",
    "th.info()"
   ]
  },
  {
   "cell_type": "markdown",
   "id": "3deeb8de",
   "metadata": {},
   "source": [
    "## Takeaway's:\n",
    "- All csvs have the same amount of rows\n",
    "- No nulls\n",
    "- The DATE is an object when it should be a time series\n",
    "- Names of currencies should have better naming conventions for recognizability\n",
    "- dataframes should be merged\n",
    "- create moniker for usd"
   ]
  },
  {
   "cell_type": "markdown",
   "id": "b2be9d90",
   "metadata": {},
   "source": [
    "### Merge dataframes"
   ]
  },
  {
   "cell_type": "markdown",
   "id": "e96d10c2",
   "metadata": {},
   "source": [
    "Required Merges\n",
    "- [x] jpy\n",
    "- [x] hk\n",
    "- [x] ch\n",
    "- [x] kr\n",
    "- [x] si\n",
    "- [x] tw\n",
    "- [x] th"
   ]
  },
  {
   "cell_type": "code",
   "execution_count": 10,
   "id": "096fbf6b",
   "metadata": {},
   "outputs": [],
   "source": [
    "merge1 = pd.merge(jpy, hk, on='DATE')\n",
    "merge2 = pd.merge(merge1, ch, on='DATE')\n",
    "merge3 = pd.merge(merge2, kr, on='DATE')\n",
    "merge4 = pd.merge(merge3, si, on='DATE')\n",
    "merge5 = pd.merge(merge4, tw, on='DATE')\n",
    "merge6 = pd.merge(merge5, th, on='DATE')\n",
    "df = pd.merge(merge6, usd, on='DATE')"
   ]
  },
  {
   "cell_type": "code",
   "execution_count": 11,
   "id": "4e568071",
   "metadata": {
    "scrolled": false
   },
   "outputs": [
    {
     "name": "stdout",
     "output_type": "stream",
     "text": [
      "<class 'pandas.core.frame.DataFrame'>\n",
      "Int64Index: 1305 entries, 0 to 1304\n",
      "Data columns (total 9 columns):\n",
      " #   Column    Non-Null Count  Dtype \n",
      "---  ------    --------------  ----- \n",
      " 0   DATE      1305 non-null   object\n",
      " 1   DEXJPUS   1305 non-null   object\n",
      " 2   DEXHKUS   1305 non-null   object\n",
      " 3   DEXCHUS   1305 non-null   object\n",
      " 4   DEXKOUS   1305 non-null   object\n",
      " 5   DEXSIUS   1305 non-null   object\n",
      " 6   DEXTAUS   1305 non-null   object\n",
      " 7   DEXTHUS   1305 non-null   object\n",
      " 8   DTWEXBGS  1305 non-null   object\n",
      "dtypes: object(9)\n",
      "memory usage: 102.0+ KB\n"
     ]
    }
   ],
   "source": [
    "df.info()"
   ]
  },
  {
   "cell_type": "markdown",
   "id": "3a4bb464",
   "metadata": {},
   "source": [
    "### Create USD column"
   ]
  },
  {
   "cell_type": "code",
   "execution_count": 12,
   "id": "82994ef4",
   "metadata": {},
   "outputs": [],
   "source": [
    "df['USD_Actual'] = '1.00'"
   ]
  },
  {
   "cell_type": "code",
   "execution_count": 13,
   "id": "52ebf956",
   "metadata": {
    "scrolled": true
   },
   "outputs": [
    {
     "data": {
      "text/html": [
       "<div>\n",
       "<style scoped>\n",
       "    .dataframe tbody tr th:only-of-type {\n",
       "        vertical-align: middle;\n",
       "    }\n",
       "\n",
       "    .dataframe tbody tr th {\n",
       "        vertical-align: top;\n",
       "    }\n",
       "\n",
       "    .dataframe thead th {\n",
       "        text-align: right;\n",
       "    }\n",
       "</style>\n",
       "<table border=\"1\" class=\"dataframe\">\n",
       "  <thead>\n",
       "    <tr style=\"text-align: right;\">\n",
       "      <th></th>\n",
       "      <th>DATE</th>\n",
       "      <th>DEXJPUS</th>\n",
       "      <th>DEXHKUS</th>\n",
       "      <th>DEXCHUS</th>\n",
       "      <th>DEXKOUS</th>\n",
       "      <th>DEXSIUS</th>\n",
       "      <th>DEXTAUS</th>\n",
       "      <th>DEXTHUS</th>\n",
       "      <th>DTWEXBGS</th>\n",
       "      <th>USD_Actual</th>\n",
       "    </tr>\n",
       "  </thead>\n",
       "  <tbody>\n",
       "    <tr>\n",
       "      <th>0</th>\n",
       "      <td>2017-06-26</td>\n",
       "      <td>111.4800</td>\n",
       "      <td>7.7986</td>\n",
       "      <td>6.8382</td>\n",
       "      <td>1132.4800</td>\n",
       "      <td>1.3875</td>\n",
       "      <td>30.3000</td>\n",
       "      <td>33.9700</td>\n",
       "      <td>112.7623</td>\n",
       "      <td>1.00</td>\n",
       "    </tr>\n",
       "    <tr>\n",
       "      <th>1</th>\n",
       "      <td>2017-06-27</td>\n",
       "      <td>112.4200</td>\n",
       "      <td>7.7999</td>\n",
       "      <td>6.8100</td>\n",
       "      <td>1137.7700</td>\n",
       "      <td>1.3867</td>\n",
       "      <td>30.3200</td>\n",
       "      <td>33.9400</td>\n",
       "      <td>112.5494</td>\n",
       "      <td>1.00</td>\n",
       "    </tr>\n",
       "    <tr>\n",
       "      <th>2</th>\n",
       "      <td>2017-06-28</td>\n",
       "      <td>112.1800</td>\n",
       "      <td>7.8030</td>\n",
       "      <td>6.7984</td>\n",
       "      <td>1141.9100</td>\n",
       "      <td>1.3818</td>\n",
       "      <td>30.4100</td>\n",
       "      <td>33.9500</td>\n",
       "      <td>112.0744</td>\n",
       "      <td>1.00</td>\n",
       "    </tr>\n",
       "    <tr>\n",
       "      <th>3</th>\n",
       "      <td>2017-06-29</td>\n",
       "      <td>112.3200</td>\n",
       "      <td>7.8038</td>\n",
       "      <td>6.7840</td>\n",
       "      <td>1144.0700</td>\n",
       "      <td>1.3799</td>\n",
       "      <td>30.4600</td>\n",
       "      <td>33.9800</td>\n",
       "      <td>111.9981</td>\n",
       "      <td>1.00</td>\n",
       "    </tr>\n",
       "    <tr>\n",
       "      <th>4</th>\n",
       "      <td>2017-06-30</td>\n",
       "      <td>112.4000</td>\n",
       "      <td>7.8055</td>\n",
       "      <td>6.7793</td>\n",
       "      <td>1143.7500</td>\n",
       "      <td>1.3765</td>\n",
       "      <td>30.3800</td>\n",
       "      <td>33.9200</td>\n",
       "      <td>111.9897</td>\n",
       "      <td>1.00</td>\n",
       "    </tr>\n",
       "  </tbody>\n",
       "</table>\n",
       "</div>"
      ],
      "text/plain": [
       "         DATE   DEXJPUS DEXHKUS DEXCHUS    DEXKOUS DEXSIUS  DEXTAUS  DEXTHUS  \\\n",
       "0  2017-06-26  111.4800  7.7986  6.8382  1132.4800  1.3875  30.3000  33.9700   \n",
       "1  2017-06-27  112.4200  7.7999  6.8100  1137.7700  1.3867  30.3200  33.9400   \n",
       "2  2017-06-28  112.1800  7.8030  6.7984  1141.9100  1.3818  30.4100  33.9500   \n",
       "3  2017-06-29  112.3200  7.8038  6.7840  1144.0700  1.3799  30.4600  33.9800   \n",
       "4  2017-06-30  112.4000  7.8055  6.7793  1143.7500  1.3765  30.3800  33.9200   \n",
       "\n",
       "   DTWEXBGS USD_Actual  \n",
       "0  112.7623       1.00  \n",
       "1  112.5494       1.00  \n",
       "2  112.0744       1.00  \n",
       "3  111.9981       1.00  \n",
       "4  111.9897       1.00  "
      ]
     },
     "execution_count": 13,
     "metadata": {},
     "output_type": "execute_result"
    }
   ],
   "source": [
    "df.head()"
   ]
  },
  {
   "cell_type": "code",
   "execution_count": 14,
   "id": "3e186f28",
   "metadata": {
    "scrolled": true
   },
   "outputs": [
    {
     "name": "stdout",
     "output_type": "stream",
     "text": [
      "<class 'pandas.core.frame.DataFrame'>\n",
      "Int64Index: 1305 entries, 0 to 1304\n",
      "Data columns (total 10 columns):\n",
      " #   Column      Non-Null Count  Dtype \n",
      "---  ------      --------------  ----- \n",
      " 0   DATE        1305 non-null   object\n",
      " 1   DEXJPUS     1305 non-null   object\n",
      " 2   DEXHKUS     1305 non-null   object\n",
      " 3   DEXCHUS     1305 non-null   object\n",
      " 4   DEXKOUS     1305 non-null   object\n",
      " 5   DEXSIUS     1305 non-null   object\n",
      " 6   DEXTAUS     1305 non-null   object\n",
      " 7   DEXTHUS     1305 non-null   object\n",
      " 8   DTWEXBGS    1305 non-null   object\n",
      " 9   USD_Actual  1305 non-null   object\n",
      "dtypes: object(10)\n",
      "memory usage: 112.1+ KB\n"
     ]
    }
   ],
   "source": [
    "df.info()"
   ]
  },
  {
   "cell_type": "markdown",
   "id": "1543fd39",
   "metadata": {},
   "source": [
    "### Change 'DATE' from 'object' to 'datetime64'"
   ]
  },
  {
   "cell_type": "code",
   "execution_count": 25,
   "id": "86bf44ed",
   "metadata": {},
   "outputs": [],
   "source": [
    "df['DATE'] = df['DATE'].astype('datetime64')"
   ]
  },
  {
   "cell_type": "code",
   "execution_count": 26,
   "id": "2ff87894",
   "metadata": {},
   "outputs": [],
   "source": [
    "for col in df.columns[1:10]:\n",
    "    df[col] = pd.to_numeric(df[col],errors='coerce')"
   ]
  },
  {
   "cell_type": "code",
   "execution_count": 27,
   "id": "f65c58f4",
   "metadata": {
    "scrolled": true
   },
   "outputs": [
    {
     "data": {
      "text/html": [
       "<div>\n",
       "<style scoped>\n",
       "    .dataframe tbody tr th:only-of-type {\n",
       "        vertical-align: middle;\n",
       "    }\n",
       "\n",
       "    .dataframe tbody tr th {\n",
       "        vertical-align: top;\n",
       "    }\n",
       "\n",
       "    .dataframe thead th {\n",
       "        text-align: right;\n",
       "    }\n",
       "</style>\n",
       "<table border=\"1\" class=\"dataframe\">\n",
       "  <thead>\n",
       "    <tr style=\"text-align: right;\">\n",
       "      <th></th>\n",
       "      <th>DATE</th>\n",
       "      <th>JPYEN</th>\n",
       "      <th>HKD</th>\n",
       "      <th>CHYUAN</th>\n",
       "      <th>KRWON</th>\n",
       "      <th>SPD</th>\n",
       "      <th>TWD</th>\n",
       "      <th>THB</th>\n",
       "      <th>USD_Index</th>\n",
       "      <th>USD_Actual</th>\n",
       "    </tr>\n",
       "  </thead>\n",
       "  <tbody>\n",
       "    <tr>\n",
       "      <th>0</th>\n",
       "      <td>2017-06-26</td>\n",
       "      <td>111.48</td>\n",
       "      <td>7.7986</td>\n",
       "      <td>6.8382</td>\n",
       "      <td>1132.48</td>\n",
       "      <td>1.3875</td>\n",
       "      <td>30.30</td>\n",
       "      <td>33.97</td>\n",
       "      <td>112.7623</td>\n",
       "      <td>1.0</td>\n",
       "    </tr>\n",
       "    <tr>\n",
       "      <th>1</th>\n",
       "      <td>2017-06-27</td>\n",
       "      <td>112.42</td>\n",
       "      <td>7.7999</td>\n",
       "      <td>6.8100</td>\n",
       "      <td>1137.77</td>\n",
       "      <td>1.3867</td>\n",
       "      <td>30.32</td>\n",
       "      <td>33.94</td>\n",
       "      <td>112.5494</td>\n",
       "      <td>1.0</td>\n",
       "    </tr>\n",
       "    <tr>\n",
       "      <th>2</th>\n",
       "      <td>2017-06-28</td>\n",
       "      <td>112.18</td>\n",
       "      <td>7.8030</td>\n",
       "      <td>6.7984</td>\n",
       "      <td>1141.91</td>\n",
       "      <td>1.3818</td>\n",
       "      <td>30.41</td>\n",
       "      <td>33.95</td>\n",
       "      <td>112.0744</td>\n",
       "      <td>1.0</td>\n",
       "    </tr>\n",
       "    <tr>\n",
       "      <th>3</th>\n",
       "      <td>2017-06-29</td>\n",
       "      <td>112.32</td>\n",
       "      <td>7.8038</td>\n",
       "      <td>6.7840</td>\n",
       "      <td>1144.07</td>\n",
       "      <td>1.3799</td>\n",
       "      <td>30.46</td>\n",
       "      <td>33.98</td>\n",
       "      <td>111.9981</td>\n",
       "      <td>1.0</td>\n",
       "    </tr>\n",
       "    <tr>\n",
       "      <th>4</th>\n",
       "      <td>2017-06-30</td>\n",
       "      <td>112.40</td>\n",
       "      <td>7.8055</td>\n",
       "      <td>6.7793</td>\n",
       "      <td>1143.75</td>\n",
       "      <td>1.3765</td>\n",
       "      <td>30.38</td>\n",
       "      <td>33.92</td>\n",
       "      <td>111.9897</td>\n",
       "      <td>1.0</td>\n",
       "    </tr>\n",
       "  </tbody>\n",
       "</table>\n",
       "</div>"
      ],
      "text/plain": [
       "        DATE   JPYEN     HKD  CHYUAN    KRWON     SPD    TWD    THB  \\\n",
       "0 2017-06-26  111.48  7.7986  6.8382  1132.48  1.3875  30.30  33.97   \n",
       "1 2017-06-27  112.42  7.7999  6.8100  1137.77  1.3867  30.32  33.94   \n",
       "2 2017-06-28  112.18  7.8030  6.7984  1141.91  1.3818  30.41  33.95   \n",
       "3 2017-06-29  112.32  7.8038  6.7840  1144.07  1.3799  30.46  33.98   \n",
       "4 2017-06-30  112.40  7.8055  6.7793  1143.75  1.3765  30.38  33.92   \n",
       "\n",
       "   USD_Index  USD_Actual  \n",
       "0   112.7623         1.0  \n",
       "1   112.5494         1.0  \n",
       "2   112.0744         1.0  \n",
       "3   111.9981         1.0  \n",
       "4   111.9897         1.0  "
      ]
     },
     "execution_count": 27,
     "metadata": {},
     "output_type": "execute_result"
    }
   ],
   "source": [
    "# sanity check\n",
    "df.head()"
   ]
  },
  {
   "cell_type": "code",
   "execution_count": 28,
   "id": "470653ce",
   "metadata": {},
   "outputs": [
    {
     "name": "stdout",
     "output_type": "stream",
     "text": [
      "<class 'pandas.core.frame.DataFrame'>\n",
      "Int64Index: 1305 entries, 0 to 1304\n",
      "Data columns (total 10 columns):\n",
      " #   Column      Non-Null Count  Dtype         \n",
      "---  ------      --------------  -----         \n",
      " 0   DATE        1305 non-null   datetime64[ns]\n",
      " 1   JPYEN       1247 non-null   float64       \n",
      " 2   HKD         1247 non-null   float64       \n",
      " 3   CHYUAN      1247 non-null   float64       \n",
      " 4   KRWON       1247 non-null   float64       \n",
      " 5   SPD         1247 non-null   float64       \n",
      " 6   TWD         1247 non-null   float64       \n",
      " 7   THB         1247 non-null   float64       \n",
      " 8   USD_Index   1245 non-null   float64       \n",
      " 9   USD_Actual  1305 non-null   float64       \n",
      "dtypes: datetime64[ns](1), float64(9)\n",
      "memory usage: 112.1 KB\n"
     ]
    }
   ],
   "source": [
    "df.info()"
   ]
  },
  {
   "cell_type": "markdown",
   "id": "7d1bc614",
   "metadata": {},
   "source": [
    "### Rename columns"
   ]
  },
  {
   "cell_type": "code",
   "execution_count": 29,
   "id": "5a3c1994",
   "metadata": {},
   "outputs": [],
   "source": [
    "df = df.rename(columns={'DEXJPUS': 'JPYEN', 'DEXHKUS':'HKD',\n",
    "                        'DEXCHUS':'CHYUAN', 'DEXKOUS':'KRWON',\n",
    "                        'DEXSIUS':'SPD', 'DEXTAUS':'TWD',\n",
    "                        'DEXTHUS':'THB', 'DTWEXBGS':'USD_Index'})"
   ]
  },
  {
   "cell_type": "code",
   "execution_count": 30,
   "id": "af4d1158",
   "metadata": {
    "scrolled": true
   },
   "outputs": [
    {
     "data": {
      "text/html": [
       "<div>\n",
       "<style scoped>\n",
       "    .dataframe tbody tr th:only-of-type {\n",
       "        vertical-align: middle;\n",
       "    }\n",
       "\n",
       "    .dataframe tbody tr th {\n",
       "        vertical-align: top;\n",
       "    }\n",
       "\n",
       "    .dataframe thead th {\n",
       "        text-align: right;\n",
       "    }\n",
       "</style>\n",
       "<table border=\"1\" class=\"dataframe\">\n",
       "  <thead>\n",
       "    <tr style=\"text-align: right;\">\n",
       "      <th></th>\n",
       "      <th>DATE</th>\n",
       "      <th>JPYEN</th>\n",
       "      <th>HKD</th>\n",
       "      <th>CHYUAN</th>\n",
       "      <th>KRWON</th>\n",
       "      <th>SPD</th>\n",
       "      <th>TWD</th>\n",
       "      <th>THB</th>\n",
       "      <th>USD_Index</th>\n",
       "      <th>USD_Actual</th>\n",
       "    </tr>\n",
       "  </thead>\n",
       "  <tbody>\n",
       "    <tr>\n",
       "      <th>0</th>\n",
       "      <td>2017-06-26</td>\n",
       "      <td>111.48</td>\n",
       "      <td>7.7986</td>\n",
       "      <td>6.8382</td>\n",
       "      <td>1132.48</td>\n",
       "      <td>1.3875</td>\n",
       "      <td>30.30</td>\n",
       "      <td>33.97</td>\n",
       "      <td>112.7623</td>\n",
       "      <td>1.0</td>\n",
       "    </tr>\n",
       "    <tr>\n",
       "      <th>1</th>\n",
       "      <td>2017-06-27</td>\n",
       "      <td>112.42</td>\n",
       "      <td>7.7999</td>\n",
       "      <td>6.8100</td>\n",
       "      <td>1137.77</td>\n",
       "      <td>1.3867</td>\n",
       "      <td>30.32</td>\n",
       "      <td>33.94</td>\n",
       "      <td>112.5494</td>\n",
       "      <td>1.0</td>\n",
       "    </tr>\n",
       "    <tr>\n",
       "      <th>2</th>\n",
       "      <td>2017-06-28</td>\n",
       "      <td>112.18</td>\n",
       "      <td>7.8030</td>\n",
       "      <td>6.7984</td>\n",
       "      <td>1141.91</td>\n",
       "      <td>1.3818</td>\n",
       "      <td>30.41</td>\n",
       "      <td>33.95</td>\n",
       "      <td>112.0744</td>\n",
       "      <td>1.0</td>\n",
       "    </tr>\n",
       "    <tr>\n",
       "      <th>3</th>\n",
       "      <td>2017-06-29</td>\n",
       "      <td>112.32</td>\n",
       "      <td>7.8038</td>\n",
       "      <td>6.7840</td>\n",
       "      <td>1144.07</td>\n",
       "      <td>1.3799</td>\n",
       "      <td>30.46</td>\n",
       "      <td>33.98</td>\n",
       "      <td>111.9981</td>\n",
       "      <td>1.0</td>\n",
       "    </tr>\n",
       "    <tr>\n",
       "      <th>4</th>\n",
       "      <td>2017-06-30</td>\n",
       "      <td>112.40</td>\n",
       "      <td>7.8055</td>\n",
       "      <td>6.7793</td>\n",
       "      <td>1143.75</td>\n",
       "      <td>1.3765</td>\n",
       "      <td>30.38</td>\n",
       "      <td>33.92</td>\n",
       "      <td>111.9897</td>\n",
       "      <td>1.0</td>\n",
       "    </tr>\n",
       "  </tbody>\n",
       "</table>\n",
       "</div>"
      ],
      "text/plain": [
       "        DATE   JPYEN     HKD  CHYUAN    KRWON     SPD    TWD    THB  \\\n",
       "0 2017-06-26  111.48  7.7986  6.8382  1132.48  1.3875  30.30  33.97   \n",
       "1 2017-06-27  112.42  7.7999  6.8100  1137.77  1.3867  30.32  33.94   \n",
       "2 2017-06-28  112.18  7.8030  6.7984  1141.91  1.3818  30.41  33.95   \n",
       "3 2017-06-29  112.32  7.8038  6.7840  1144.07  1.3799  30.46  33.98   \n",
       "4 2017-06-30  112.40  7.8055  6.7793  1143.75  1.3765  30.38  33.92   \n",
       "\n",
       "   USD_Index  USD_Actual  \n",
       "0   112.7623         1.0  \n",
       "1   112.5494         1.0  \n",
       "2   112.0744         1.0  \n",
       "3   111.9981         1.0  \n",
       "4   111.9897         1.0  "
      ]
     },
     "execution_count": 30,
     "metadata": {},
     "output_type": "execute_result"
    }
   ],
   "source": [
    "#check\n",
    "df.head()"
   ]
  },
  {
   "cell_type": "code",
   "execution_count": 31,
   "id": "e97b14ea",
   "metadata": {},
   "outputs": [
    {
     "name": "stdout",
     "output_type": "stream",
     "text": [
      "<class 'pandas.core.frame.DataFrame'>\n",
      "Int64Index: 1305 entries, 0 to 1304\n",
      "Data columns (total 10 columns):\n",
      " #   Column      Non-Null Count  Dtype         \n",
      "---  ------      --------------  -----         \n",
      " 0   DATE        1305 non-null   datetime64[ns]\n",
      " 1   JPYEN       1247 non-null   float64       \n",
      " 2   HKD         1247 non-null   float64       \n",
      " 3   CHYUAN      1247 non-null   float64       \n",
      " 4   KRWON       1247 non-null   float64       \n",
      " 5   SPD         1247 non-null   float64       \n",
      " 6   TWD         1247 non-null   float64       \n",
      " 7   THB         1247 non-null   float64       \n",
      " 8   USD_Index   1245 non-null   float64       \n",
      " 9   USD_Actual  1305 non-null   float64       \n",
      "dtypes: datetime64[ns](1), float64(9)\n",
      "memory usage: 112.1 KB\n"
     ]
    }
   ],
   "source": [
    "df.info()"
   ]
  },
  {
   "cell_type": "code",
   "execution_count": 32,
   "id": "194843d7",
   "metadata": {},
   "outputs": [],
   "source": [
    "df.to_csv('dollarvs_data.csv', index=False)"
   ]
  },
  {
   "cell_type": "markdown",
   "id": "f5b01209",
   "metadata": {},
   "source": [
    "##### Reproduce in wrangle.py"
   ]
  },
  {
   "cell_type": "code",
   "execution_count": null,
   "id": "c8189cbc",
   "metadata": {},
   "outputs": [],
   "source": []
  }
 ],
 "metadata": {
  "kernelspec": {
   "display_name": "Python 3 (ipykernel)",
   "language": "python",
   "name": "python3"
  },
  "language_info": {
   "codemirror_mode": {
    "name": "ipython",
    "version": 3
   },
   "file_extension": ".py",
   "mimetype": "text/x-python",
   "name": "python",
   "nbconvert_exporter": "python",
   "pygments_lexer": "ipython3",
   "version": "3.9.7"
  }
 },
 "nbformat": 4,
 "nbformat_minor": 5
}
