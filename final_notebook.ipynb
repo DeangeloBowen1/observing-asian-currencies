{
 "cells": [
  {
   "cell_type": "markdown",
   "id": "1a265a58",
   "metadata": {},
   "source": [
    "# With Your Last Dollar\n",
    "- by Deangelo Bowen, July 1, 2022"
   ]
  },
  {
   "cell_type": "markdown",
   "id": "663d1a4d",
   "metadata": {},
   "source": [
    "---"
   ]
  },
  {
   "cell_type": "markdown",
   "id": "8e6fe017",
   "metadata": {},
   "source": [
    "## Project Overview:\n",
    "- "
   ]
  }
 ],
 "metadata": {
  "kernelspec": {
   "display_name": "Python 3 (ipykernel)",
   "language": "python",
   "name": "python3"
  },
  "language_info": {
   "codemirror_mode": {
    "name": "ipython",
    "version": 3
   },
   "file_extension": ".py",
   "mimetype": "text/x-python",
   "name": "python",
   "nbconvert_exporter": "python",
   "pygments_lexer": "ipython3",
   "version": "3.9.7"
  }
 },
 "nbformat": 4,
 "nbformat_minor": 5
}
